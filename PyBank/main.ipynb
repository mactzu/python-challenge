{
 "cells": [
  {
   "cell_type": "markdown",
   "metadata": {},
   "source": [
    "This Python script is ready to run, but has not been executed.  Analysis will be created once all cells are run."
   ]
  },
  {
   "cell_type": "code",
   "execution_count": null,
   "metadata": {},
   "outputs": [],
   "source": [
    "import os\n",
    "import csv\n",
    "import pandas as pd\n"
   ]
  },
  {
   "cell_type": "code",
   "execution_count": null,
   "metadata": {},
   "outputs": [],
   "source": [
    "budget_df= pd.read_csv(\"Resources/budget_data.csv\")\n",
    "budget_df.head()"
   ]
  },
  {
   "cell_type": "code",
   "execution_count": null,
   "metadata": {},
   "outputs": [],
   "source": [
    "month_total = budget_df[\"Date\"].count()\n",
    "pnl_total = budget_df[\"Profit/Losses\"].sum()\n",
    "ave_month = round(budget_df[\"Profit/Losses\"].mean(),2)\n",
    "min_month = budget_df[\"Profit/Losses\"].idxmin()\n",
    "max_month = budget_df[\"Profit/Losses\"].idxmax()\n"
   ]
  },
  {
   "cell_type": "code",
   "execution_count": null,
   "metadata": {},
   "outputs": [],
   "source": [
    "print(\"Financial Analysis\")\n",
    "print(\"----------------------------\")\n",
    "print(f\"Total Months: {month_total}\")\n",
    "print(f\"Total: {pnl_total}\")\n",
    "print(f\"Average  Change: ${ave_month}\")\n",
    "print(f\"Greatest Increase in Profits: {budget_df.iloc[max_month, 0]} ${budget_df.iloc[max_month, 1]} \")\n",
    "print(f\"Greatest Decrease in Profits: {budget_df.iloc[min_month, 0]} ${budget_df.iloc[min_month, 1]} \")\n",
    "f = open(\"analysis/analysis.txt\", \"a\")\n",
    "print(\"Financial Analysis\", file=f)\n",
    "print(\"----------------------------\", file=f)\n",
    "print(f\"Total Months: {month_total}\", file=f)\n",
    "print(f\"Total: {pnl_total}\", file=f)\n",
    "print(f\"Average  Change: ${ave_month}\", file=f)\n",
    "print(f\"Greatest Increase in Profits: {budget_df.iloc[max_month, 0]} ${budget_df.iloc[max_month, 1]} \", file=f)\n",
    "print(f\"Greatest Decrease in Profits: {budget_df.iloc[min_month, 0]} ${budget_df.iloc[min_month, 1]} \", file=f)\n",
    "f.close()"
   ]
  },
  {
   "cell_type": "code",
   "execution_count": null,
   "metadata": {},
   "outputs": [],
   "source": []
  },
  {
   "cell_type": "code",
   "execution_count": null,
   "metadata": {},
   "outputs": [],
   "source": []
  }
 ],
 "metadata": {
  "kernelspec": {
   "display_name": "Python 3",
   "language": "python",
   "name": "python3"
  },
  "language_info": {
   "codemirror_mode": {
    "name": "ipython",
    "version": 3
   },
   "file_extension": ".py",
   "mimetype": "text/x-python",
   "name": "python",
   "nbconvert_exporter": "python",
   "pygments_lexer": "ipython3",
   "version": "3.7.6"
  }
 },
 "nbformat": 4,
 "nbformat_minor": 4
}
